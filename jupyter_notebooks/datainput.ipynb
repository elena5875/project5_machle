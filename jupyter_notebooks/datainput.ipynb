{
 "cells": [
  {
   "cell_type": "code",
   "execution_count": 3,
   "id": "0a959f8d-c975-4949-920c-3d7293159f62",
   "metadata": {},
   "outputs": [
    {
     "name": "stdout",
     "output_type": "stream",
     "text": [
      "Collecting kaggle\n",
      "  Downloading kaggle-1.6.12.tar.gz (79 kB)\n",
      "\u001b[2K     \u001b[90m━━━━━━━━━━━━━━━━━━━━━━━━━━━━━━━━━━━━━━━━\u001b[0m \u001b[32m79.7/79.7 kB\u001b[0m \u001b[31m2.1 MB/s\u001b[0m eta \u001b[36m0:00:00\u001b[0m\n",
      "\u001b[?25h  Preparing metadata (setup.py) ... \u001b[?25ldone\n",
      "\u001b[?25hRequirement already satisfied: six>=1.10 in /home/gitpod/.pyenv/versions/3.12.2/lib/python3.12/site-packages (from kaggle) (1.16.0)\n",
      "Requirement already satisfied: certifi>=2023.7.22 in /home/gitpod/.pyenv/versions/3.12.2/lib/python3.12/site-packages (from kaggle) (2024.2.2)\n",
      "Requirement already satisfied: python-dateutil in /home/gitpod/.pyenv/versions/3.12.2/lib/python3.12/site-packages (from kaggle) (2.9.0.post0)\n",
      "Requirement already satisfied: requests in /home/gitpod/.pyenv/versions/3.12.2/lib/python3.12/site-packages (from kaggle) (2.31.0)\n",
      "Collecting tqdm (from kaggle)\n",
      "  Downloading tqdm-4.66.2-py3-none-any.whl.metadata (57 kB)\n",
      "\u001b[2K     \u001b[90m━━━━━━━━━━━━━━━━━━━━━━━━━━━━━━━━━━━━━━━━\u001b[0m \u001b[32m57.6/57.6 kB\u001b[0m \u001b[31m9.8 MB/s\u001b[0m eta \u001b[36m0:00:00\u001b[0m\n",
      "\u001b[?25hCollecting python-slugify (from kaggle)\n",
      "  Downloading python_slugify-8.0.4-py2.py3-none-any.whl.metadata (8.5 kB)\n",
      "Requirement already satisfied: urllib3 in /home/gitpod/.pyenv/versions/3.12.2/lib/python3.12/site-packages (from kaggle) (2.2.1)\n",
      "Requirement already satisfied: bleach in /home/gitpod/.pyenv/versions/3.12.2/lib/python3.12/site-packages (from kaggle) (6.1.0)\n",
      "Requirement already satisfied: webencodings in /home/gitpod/.pyenv/versions/3.12.2/lib/python3.12/site-packages (from bleach->kaggle) (0.5.1)\n",
      "Collecting text-unidecode>=1.3 (from python-slugify->kaggle)\n",
      "  Downloading text_unidecode-1.3-py2.py3-none-any.whl.metadata (2.4 kB)\n",
      "Requirement already satisfied: charset-normalizer<4,>=2 in /home/gitpod/.pyenv/versions/3.12.2/lib/python3.12/site-packages (from requests->kaggle) (3.3.2)\n",
      "Requirement already satisfied: idna<4,>=2.5 in /home/gitpod/.pyenv/versions/3.12.2/lib/python3.12/site-packages (from requests->kaggle) (3.6)\n",
      "Downloading python_slugify-8.0.4-py2.py3-none-any.whl (10 kB)\n",
      "Downloading tqdm-4.66.2-py3-none-any.whl (78 kB)\n",
      "\u001b[2K   \u001b[90m━━━━━━━━━━━━━━━━━━━━━━━━━━━━━━━━━━━━━━━━\u001b[0m \u001b[32m78.3/78.3 kB\u001b[0m \u001b[31m13.3 MB/s\u001b[0m eta \u001b[36m0:00:00\u001b[0m\n",
      "\u001b[?25hDownloading text_unidecode-1.3-py2.py3-none-any.whl (78 kB)\n",
      "\u001b[2K   \u001b[90m━━━━━━━━━━━━━━━━━━━━━━━━━━━━━━━━━━━━━━━━\u001b[0m \u001b[32m78.2/78.2 kB\u001b[0m \u001b[31m21.4 MB/s\u001b[0m eta \u001b[36m0:00:00\u001b[0m\n",
      "\u001b[?25hBuilding wheels for collected packages: kaggle\n",
      "  Building wheel for kaggle (setup.py) ... \u001b[?25ldone\n",
      "\u001b[?25h  Created wheel for kaggle: filename=kaggle-1.6.12-py3-none-any.whl size=102969 sha256=2b6420b4c9aa5e1bdb9a71aa3be74c1044b926b20fd7e3bf33449fa691062853\n",
      "  Stored in directory: /workspace/.pyenv_mirror/pip_cache/wheels/2a/00/63/fa8dbcfb1458e6a65ac7a28d456deb9e0e033245b67f952681\n",
      "Successfully built kaggle\n",
      "Installing collected packages: text-unidecode, tqdm, python-slugify, kaggle\n",
      "Successfully installed kaggle-1.6.12 python-slugify-8.0.4 text-unidecode-1.3 tqdm-4.66.2\n"
     ]
    }
   ],
   "source": [
    "##downloading kaggle\n",
    "!pip install kaggle"
   ]
  },
  {
   "cell_type": "code",
   "execution_count": 5,
   "id": "16941b92-f9c1-438b-aca5-773bb25d4bbf",
   "metadata": {},
   "outputs": [
    {
     "name": "stdout",
     "output_type": "stream",
     "text": [
      "Warning: Your Kaggle API key is readable by other users on this system! To fix this, you can run 'chmod 600 /home/gitpod/.kaggle/kaggle.json'\n",
      "Dataset URL: https://www.kaggle.com/datasets/codeinstitute/housing-prices-data\n",
      "License(s): unknown\n",
      "Downloading housing-prices-data.zip to data\n",
      "  0%|                                               | 0.00/49.6k [00:00<?, ?B/s]\n",
      "100%|██████████████████████████████████████| 49.6k/49.6k [00:00<00:00, 13.5MB/s]\n"
     ]
    }
   ],
   "source": [
    "## downloading data from kaggle\n",
    "import shutil\n",
    "import os\n",
    "\n",
    "shutil.copy(\"kaggle.json\", os.path.expanduser(\"~/.kaggle/kaggle.json\"))\n",
    "\n",
    "!kaggle datasets download -d codeinstitute/housing-prices-data -p data\n"
   ]
  },
  {
   "cell_type": "code",
   "execution_count": 6,
   "id": "a225b8a3-79cc-4782-b7c7-8c579c156a4b",
   "metadata": {},
   "outputs": [
    {
     "name": "stdout",
     "output_type": "stream",
     "text": [
      "Files extracted successfully: ['house-metadata.txt', 'house-price-20211124T154130Z-001']\n"
     ]
    }
   ],
   "source": [
    "import zipfile\n",
    "import os\n",
    "\n",
    "# Specify the path to the zip file\n",
    "zip_file_path = 'data/housing-prices-data.zip'\n",
    "\n",
    "# Specify the directory where you want to extract the contents\n",
    "extract_dir = 'data/housing-prices-data'\n",
    "\n",
    "# Create a ZipFile object\n",
    "with zipfile.ZipFile(zip_file_path, 'r') as zip_ref:\n",
    "    # Extract all the contents to the specified directory\n",
    "    zip_ref.extractall(extract_dir)\n",
    "\n",
    "# List the files in the extraction directory\n",
    "extracted_files = os.listdir(extract_dir)\n",
    "print(\"Files extracted successfully:\", extracted_files)\n"
   ]
  },
  {
   "cell_type": "code",
   "execution_count": null,
   "id": "7099808e-ef98-4dee-a169-daf2e947f78b",
   "metadata": {},
   "outputs": [],
   "source": []
  }
 ],
 "metadata": {
  "kernelspec": {
   "display_name": "Python 3 (ipykernel)",
   "language": "python",
   "name": "python3"
  },
  "language_info": {
   "codemirror_mode": {
    "name": "ipython",
    "version": 3
   },
   "file_extension": ".py",
   "mimetype": "text/x-python",
   "name": "python",
   "nbconvert_exporter": "python",
   "pygments_lexer": "ipython3",
   "version": "3.12.2"
  }
 },
 "nbformat": 4,
 "nbformat_minor": 5
}
